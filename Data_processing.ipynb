{
 "cells": [
  {
   "cell_type": "code",
   "execution_count": 1,
   "metadata": {},
   "outputs": [],
   "source": [
    "import os\n",
    "import numpy as np\n",
    "import matplotlib.pyplot as plt \n",
    "import cv2\n",
    "import json"
   ]
  },
  {
   "cell_type": "code",
   "execution_count": 2,
   "metadata": {},
   "outputs": [],
   "source": [
    "# import json\n",
    "\n",
    "# with open('category.txt', 'r') as file:\n",
    "#     label_font = json.load(file)\n",
    "    \n",
    "# print(label_font)"
   ]
  },
  {
   "cell_type": "code",
   "execution_count": 3,
   "metadata": {},
   "outputs": [],
   "source": [
    "# import shutil\n",
    "# import os\n",
    "\n",
    "# data_dir = 'D:/Workspace/dataset/Total-Text'\n",
    "# class_dir = 'D:/Workspace/Project/KLTN/class_font'\n",
    "\n",
    "# for font in label_font:\n",
    "#     os.makedirs(name= os.path.join(class_dir, font), mode= 777, exist_ok= True)\n",
    "\n",
    "#     for image_name in label_font[font]:\n",
    "#         src = os.path.join(data_dir + '/Train', image_name)\n",
    "#         des = os.path.join(class_dir + '/' + font, image_name)\n",
    "\n",
    "#         try:\n",
    "#             shutil.copy(src, des)\n",
    "\n",
    "#         except shutil.SameFileError:\n",
    "#             print(\"Source and destination represents the same file.\")\n",
    "        \n",
    "#         # If there is any permission issue\n",
    "#         except PermissionError:\n",
    "#             print(\"Permission denied.\")\n",
    "        \n",
    "#         # For other errors\n",
    "#         except:\n",
    "#             print(\"Error occurred while copying file.\")\n",
    "\n",
    "    "
   ]
  },
  {
   "cell_type": "code",
   "execution_count": 4,
   "metadata": {},
   "outputs": [
    {
     "name": "stdout",
     "output_type": "stream",
     "text": [
      "23\n"
     ]
    }
   ],
   "source": [
    "from itertools import combinations\n",
    "\n",
    "# Danh sách các từ ban đầu\n",
    "words = ['serif', 'sans_serif', 'script', 'monospaced', 'display']\n",
    "\n",
    "# Hàm để kiểm tra điều kiện hợp lệ\n",
    "def is_valid_combination(combo):\n",
    "    # Kiểm tra điều kiện 'serif' và 'sans_serif' không đi cùng nhau\n",
    "    if 'serif' in combo and 'sans_serif' in combo:\n",
    "        return False\n",
    "    return True\n",
    "\n",
    "# Hàm để tạo các kết hợp hợp lệ\n",
    "def generate_combinations(words):\n",
    "    combinations_list = []\n",
    "\n",
    "    # Tạo các tổ hợp từ 1 tới len(words)\n",
    "    for r in range(1, len(words) + 1):\n",
    "        for combo in combinations(words, r):\n",
    "            # Kiểm tra thứ tự và điều kiện hợp lệ\n",
    "            if is_valid_combination(combo):\n",
    "                # Chuyển tổ hợp thành chuỗi và thêm vào danh sách\n",
    "                combinations_list.append(' '.join(combo))\n",
    "\n",
    "    return combinations_list\n",
    "\n",
    "# Gọi hàm và in kết quả\n",
    "valid_combinations = generate_combinations(words)\n",
    "print(len(valid_combinations))\n"
   ]
  },
  {
   "cell_type": "code",
   "execution_count": 5,
   "metadata": {},
   "outputs": [],
   "source": [
    "classes = ['serif', 'sans_serif', 'script',\n",
    "           'serif monospaced', 'serif display', 'sans_serif monospaced', 'sans_serif display', 'script display',  \n",
    "           'serif monospaced display', 'sans_serif monospaced display']\n",
    "shape_label = ['vertical', 'horizontal', 'circular', 'curvy']"
   ]
  },
  {
   "cell_type": "code",
   "execution_count": 20,
   "metadata": {},
   "outputs": [
    {
     "name": "stdout",
     "output_type": "stream",
     "text": [
      "1247 1255\n"
     ]
    }
   ],
   "source": [
    "dir_ann = 'D:/Workspace/dataset/Total-Text/Annotation/ann_json'\n",
    "count = 0\n",
    "total = 0\n",
    "for json_name in os.listdir(dir_ann):\n",
    "    json_path = os.path.join(dir_ann, json_name)\n",
    "    with open(json_path, 'r') as file:\n",
    "        f = json.load(file)\n",
    "    total += 1\n",
    "    for object in f['objects']:\n",
    "        if object['tags'][0]['value'] == '#':\n",
    "            continue\n",
    "        # if 'font' in object:\n",
    "        #     if object['font'] not in classes:\n",
    "        #         print(json_name)\n",
    "        #         print(object['font'])\n",
    "\n",
    "        if 'shape' in object:\n",
    "            if len(object['shape']) == 1:\n",
    "                count += 1\n",
    "                break\n",
    "\n",
    "print(count, total)\n",
    "                "
   ]
  },
  {
   "cell_type": "code",
   "execution_count": null,
   "metadata": {},
   "outputs": [],
   "source": [
    "def label_retrieval(img_query_name):\n",
    "    query_path = os.path.join(dir_ann, f'{img_query_name[:-3]}json') \n",
    "    with open(query_path, 'r') as file:\n",
    "        ann = json.load(file)\n",
    "    relevant_images = []\n",
    "\n",
    "    for json_name in os.listdir(dir_ann):\n",
    "        json_path = os.path.join(dir_ann, json_name)\n",
    "        with open(json_path, 'r') as file:\n",
    "            f = json.load(file)\n",
    "        for object in f"
   ]
  }
 ],
 "metadata": {
  "kernelspec": {
   "display_name": "Python 3",
   "language": "python",
   "name": "python3"
  },
  "language_info": {
   "codemirror_mode": {
    "name": "ipython",
    "version": 3
   },
   "file_extension": ".py",
   "mimetype": "text/x-python",
   "name": "python",
   "nbconvert_exporter": "python",
   "pygments_lexer": "ipython3",
   "version": "3.10.1"
  }
 },
 "nbformat": 4,
 "nbformat_minor": 2
}
